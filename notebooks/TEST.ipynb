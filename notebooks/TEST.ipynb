{
 "cells": [
  {
   "cell_type": "code",
   "execution_count": 1,
   "id": "a1f5a0d8",
   "metadata": {},
   "outputs": [],
   "source": [
    "import sys\n",
    "sys.path.append('/home/Tekhta/TableEDD')\n",
    "\n",
    "import torch\n",
    "from torch import nn\n",
    "\n",
    "from table_parser import TableEDD"
   ]
  },
  {
   "cell_type": "markdown",
   "id": "d541cb79",
   "metadata": {},
   "source": [
    "# TEST  MODEL"
   ]
  },
  {
   "cell_type": "code",
   "execution_count": 3,
   "id": "fc692892",
   "metadata": {},
   "outputs": [],
   "source": [
    "a = torch.rand(1, 3, 256, 256)\n",
    "model = TableEDD(256, 30, 100, False)\n",
    "struct_pred, loc_pred = model(a)"
   ]
  },
  {
   "cell_type": "code",
   "execution_count": 4,
   "id": "d1d9dc97",
   "metadata": {},
   "outputs": [
    {
     "name": "stdout",
     "output_type": "stream",
     "text": [
      "torch.Size([1, 100, 30])\n",
      "torch.Size([1, 100, 4])\n"
     ]
    }
   ],
   "source": [
    "print(struct_pred.shape)\n",
    "print(loc_pred.shape)"
   ]
  },
  {
   "cell_type": "markdown",
   "id": "92c4908e",
   "metadata": {},
   "source": [
    "# TEST DATALOADER"
   ]
  },
  {
   "cell_type": "code",
   "execution_count": null,
   "id": "f25d14d5",
   "metadata": {},
   "outputs": [],
   "source": []
  }
 ],
 "metadata": {
  "kernelspec": {
   "display_name": "Python 3",
   "language": "python",
   "name": "python3"
  },
  "language_info": {
   "codemirror_mode": {
    "name": "ipython",
    "version": 3
   },
   "file_extension": ".py",
   "mimetype": "text/x-python",
   "name": "python",
   "nbconvert_exporter": "python",
   "pygments_lexer": "ipython3",
   "version": "3.6.9"
  }
 },
 "nbformat": 4,
 "nbformat_minor": 5
}
